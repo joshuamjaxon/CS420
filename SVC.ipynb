{
 "cells": [
  {
   "cell_type": "markdown",
   "metadata": {},
   "source": [
    "# Support Vector Classifier\n",
    "### Using SVC to classify letters"
   ]
  },
  {
   "cell_type": "code",
   "execution_count": 2,
   "metadata": {
    "collapsed": false
   },
   "outputs": [],
   "source": [
    "%matplotlib inline\n",
    "import numpy as np\n",
    "import random\n",
    "import pandas as pd\n",
    "import seaborn as sbn\n",
    "import matplotlib.pyplot as plt\n",
    "\n",
    "from sklearn import datasets\n",
    "from sklearn.svm import SVC\n",
    "from sklearn.cross_validation import train_test_split\n",
    "from sklearn.metrics import confusion_matrix, classification_report"
   ]
  },
  {
   "cell_type": "code",
   "execution_count": null,
   "metadata": {
    "collapsed": true
   },
   "outputs": [],
   "source": [
    "# Converting .gif images to vectors\n",
    "'''\n",
    "csv = open('letters.csv', 'w+')\n",
    "text = \"\"\n",
    "\n",
    "for case in ['upper', 'lower']:\n",
    "    for letter in 'A B C D E F G H I J K L M N O P Q R S T U V W X Y Z'.split(' '):\n",
    "        for number in range(100):\n",
    "            text += letter\n",
    "            f = cImage.FileIamge(\"training/{0}/{1}/{2}.gif\".format(case, letter, number))\n",
    "            for row in range(f.getHeight()):\n",
    "                for col in range(f.getWidth()):\n",
    "                    px = f.getPixel(col, row)\n",
    "                    ave = (px.getRed() + px.getGreen() + px.getBlue()) / 3\n",
    "                    text += (',{0}'.format(ave))\n",
    "            text += '\\n'\n",
    "\n",
    "csv.write(text)\n",
    "'''"
   ]
  },
  {
   "cell_type": "code",
   "execution_count": 3,
   "metadata": {
    "collapsed": false
   },
   "outputs": [],
   "source": [
    "# Read letters from CSV\n",
    "\n",
    "l = pd.DataFrame.from_csv('letters.csv', header=None, index_col=None)"
   ]
  },
  {
   "cell_type": "code",
   "execution_count": 6,
   "metadata": {
    "collapsed": false
   },
   "outputs": [],
   "source": [
    "# Select test data, using 90% for training (since there are so many samples to begin with)\n",
    "train_data = l.iloc[:, 1:401].sample(int(0.9 * len(l)))\n",
    "train_target = l.iloc[train_data.index, 0]\n",
    "\n",
    "test_data = l.iloc[:, 1:401].drop(train_data.index)\n",
    "test_target = l.iloc[test_data.index, [0]]"
   ]
  },
  {
   "cell_type": "markdown",
   "metadata": {},
   "source": [
    "### Classification Reports"
   ]
  },
  {
   "cell_type": "code",
   "execution_count": 7,
   "metadata": {
    "collapsed": false,
    "scrolled": true
   },
   "outputs": [
    {
     "name": "stdout",
     "output_type": "stream",
     "text": [
      "             precision    recall  f1-score   support\n",
      "\n",
      "          A       1.00      0.04      0.08        23\n",
      "          B       1.00      0.04      0.08        25\n",
      "          C       1.00      0.07      0.13        14\n",
      "          D       1.00      0.12      0.21        25\n",
      "          E       0.00      0.00      0.00        16\n",
      "        EEF       0.00      0.00      0.00         0\n",
      "          F       0.00      0.00      0.00        19\n",
      "          G       1.00      0.06      0.11        17\n",
      "          H       1.00      0.04      0.08        25\n",
      "          I       1.00      0.06      0.11        18\n",
      "          J       0.00      0.00      0.00        24\n",
      "          K       0.00      0.00      0.00        16\n",
      "          L       0.00      0.00      0.00        20\n",
      "          M       1.00      0.05      0.09        22\n",
      "          N       0.00      0.00      0.00        27\n",
      "          O       1.00      0.04      0.08        24\n",
      "          P       1.00      0.04      0.07        26\n",
      "          Q       1.00      0.08      0.15        24\n",
      "          R       0.00      0.00      0.00        21\n",
      "          S       0.00      0.00      0.00        19\n",
      "          T       1.00      0.06      0.11        17\n",
      "          U       1.00      0.05      0.10        20\n",
      "          V       0.00      0.00      0.00        21\n",
      "          W       1.00      0.06      0.12        16\n",
      "          X       1.00      0.05      0.09        21\n",
      "          Y       1.00      0.05      0.09        22\n",
      "          Z       0.00      0.00      0.00        17\n",
      "          a       1.00      0.12      0.21        17\n",
      "          b       0.00      0.00      0.00        19\n",
      "          c       1.00      0.06      0.11        18\n",
      "          d       0.00      0.00      0.00        23\n",
      "          e       1.00      0.05      0.10        20\n",
      "          f       0.00      0.00      0.00        23\n",
      "          g       0.01      1.00      0.02        10\n",
      "          h       1.00      0.05      0.09        22\n",
      "          k       1.00      0.05      0.09        22\n",
      "          l       0.62      0.26      0.37        19\n",
      "          m       1.00      0.06      0.12        16\n",
      "          n       0.00      0.00      0.00        25\n",
      "          o       1.00      0.13      0.24        15\n",
      "          p       1.00      0.14      0.24        22\n",
      "          q       1.00      0.05      0.10        19\n",
      "          r       0.00      0.00      0.00        12\n",
      "          s       0.00      0.00      0.00        17\n",
      "          t       1.00      0.05      0.09        21\n",
      "          u       1.00      0.12      0.21        17\n",
      "          v       0.00      0.00      0.00        23\n",
      "          w       1.00      0.05      0.10        19\n",
      "          x       0.00      0.00      0.00        23\n",
      "          y       1.00      0.05      0.09        21\n",
      "          z       1.00      0.05      0.10        19\n",
      "\n",
      "avg / total       0.62      0.05      0.08      1001\n",
      "\n"
     ]
    },
    {
     "name": "stderr",
     "output_type": "stream",
     "text": [
      "/usr/local/lib/python3.4/dist-packages/sklearn/metrics/classification.py:960: UndefinedMetricWarning: Recall and F-score are ill-defined and being set to 0.0 in labels with no true samples.\n",
      "  'recall', 'true', average, warn_for)\n"
     ]
    }
   ],
   "source": [
    "# Classify data with an rbf support vector machine\n",
    "svm = SVC()\n",
    "svm.fit(train_data.values, np.ravel(train_target.values))\n",
    "\n",
    "test_pred = svm.predict(test_data.values)\n",
    "print(classification_report(np.ravel(test_target.values), test_pred))"
   ]
  },
  {
   "cell_type": "code",
   "execution_count": 8,
   "metadata": {
    "collapsed": false,
    "scrolled": true
   },
   "outputs": [
    {
     "name": "stdout",
     "output_type": "stream",
     "text": [
      "             precision    recall  f1-score   support\n",
      "\n",
      "          A       1.00      1.00      1.00        23\n",
      "          B       1.00      1.00      1.00        25\n",
      "          C       0.75      0.64      0.69        14\n",
      "          D       1.00      1.00      1.00        25\n",
      "          E       1.00      1.00      1.00        16\n",
      "        EEF       0.00      0.00      0.00         0\n",
      "          F       1.00      0.95      0.97        19\n",
      "          G       1.00      1.00      1.00        17\n",
      "          H       1.00      1.00      1.00        25\n",
      "          I       0.71      0.56      0.63        18\n",
      "          J       0.96      0.96      0.96        24\n",
      "          K       0.94      1.00      0.97        16\n",
      "          L       1.00      1.00      1.00        20\n",
      "          M       1.00      0.91      0.95        22\n",
      "          N       0.96      0.96      0.96        27\n",
      "          O       0.87      0.83      0.85        24\n",
      "          P       1.00      1.00      1.00        26\n",
      "          Q       1.00      1.00      1.00        24\n",
      "          R       1.00      1.00      1.00        21\n",
      "          S       0.75      0.63      0.69        19\n",
      "          T       1.00      1.00      1.00        17\n",
      "          U       0.95      1.00      0.98        20\n",
      "          V       0.76      0.76      0.76        21\n",
      "          W       0.60      0.94      0.73        16\n",
      "          X       0.62      0.62      0.62        21\n",
      "          Y       1.00      1.00      1.00        22\n",
      "          Z       0.83      0.88      0.86        17\n",
      "          a       1.00      1.00      1.00        17\n",
      "          b       1.00      1.00      1.00        19\n",
      "          c       0.75      0.83      0.79        18\n",
      "          d       1.00      1.00      1.00        23\n",
      "          e       1.00      1.00      1.00        20\n",
      "          f       1.00      1.00      1.00        23\n",
      "          g       0.90      0.90      0.90        10\n",
      "          h       1.00      0.95      0.98        22\n",
      "          k       1.00      0.95      0.98        22\n",
      "          l       0.69      0.95      0.80        19\n",
      "          m       1.00      1.00      1.00        16\n",
      "          n       0.96      0.96      0.96        25\n",
      "          o       0.75      0.80      0.77        15\n",
      "          p       1.00      1.00      1.00        22\n",
      "          q       0.95      0.95      0.95        19\n",
      "          r       1.00      1.00      1.00        12\n",
      "          s       0.65      0.76      0.70        17\n",
      "          t       1.00      0.95      0.98        21\n",
      "          u       0.94      0.94      0.94        17\n",
      "          v       0.78      0.78      0.78        23\n",
      "          w       0.90      0.47      0.62        19\n",
      "          x       0.65      0.65      0.65        23\n",
      "          y       0.95      1.00      0.98        21\n",
      "          z       0.88      0.79      0.83        19\n",
      "\n",
      "avg / total       0.92      0.91      0.91      1001\n",
      "\n"
     ]
    }
   ],
   "source": [
    "# Classify data with a linear support vector machine\n",
    "svm = SVC(kernel = 'linear')\n",
    "svm.fit(train_data.values, np.ravel(train_target.values))\n",
    "\n",
    "test_pred = svm.predict(test_data.values)\n",
    "print(classification_report(np.ravel(test_target.values), test_pred))"
   ]
  },
  {
   "cell_type": "code",
   "execution_count": 18,
   "metadata": {
    "collapsed": false,
    "scrolled": true
   },
   "outputs": [
    {
     "name": "stdout",
     "output_type": "stream",
     "text": [
      "             precision    recall  f1-score   support\n",
      "\n",
      "          A       0.00      0.00      0.00        23\n",
      "          B       0.00      0.00      0.00        25\n",
      "          C       0.00      0.00      0.00        14\n",
      "          D       0.00      0.00      0.00        25\n",
      "          E       0.00      0.00      0.00        16\n",
      "          F       0.00      0.00      0.00        19\n",
      "          G       0.00      0.00      0.00        17\n",
      "          H       0.00      0.00      0.00        25\n",
      "          I       0.00      0.00      0.00        18\n",
      "          J       0.00      0.00      0.00        24\n",
      "          K       0.00      0.00      0.00        16\n",
      "          L       0.00      0.00      0.00        20\n",
      "          M       0.00      0.00      0.00        22\n",
      "          N       0.00      0.00      0.00        27\n",
      "          O       0.00      0.00      0.00        24\n",
      "          P       0.00      0.00      0.00        26\n",
      "          Q       0.00      0.00      0.00        24\n",
      "          R       0.00      0.00      0.00        21\n",
      "          S       0.00      0.00      0.00        19\n",
      "          T       0.00      0.00      0.00        17\n",
      "          U       0.00      0.00      0.00        20\n",
      "          V       0.00      0.00      0.00        21\n",
      "          W       0.00      0.00      0.00        16\n",
      "          X       0.00      0.00      0.00        21\n",
      "          Y       0.00      0.00      0.00        22\n",
      "          Z       0.00      0.00      0.00        17\n",
      "          a       0.00      0.00      0.00        17\n",
      "          b       0.00      0.00      0.00        19\n",
      "          c       0.00      0.00      0.00        18\n",
      "          d       0.00      0.00      0.00        23\n",
      "          e       0.00      0.00      0.00        20\n",
      "          f       0.00      0.00      0.00        23\n",
      "          g       0.01      1.00      0.02        10\n",
      "          h       0.00      0.00      0.00        22\n",
      "          k       0.00      0.00      0.00        22\n",
      "          l       0.00      0.00      0.00        19\n",
      "          m       0.00      0.00      0.00        16\n",
      "          n       0.00      0.00      0.00        25\n",
      "          o       0.00      0.00      0.00        15\n",
      "          p       0.00      0.00      0.00        22\n",
      "          q       0.00      0.00      0.00        19\n",
      "          r       0.00      0.00      0.00        12\n",
      "          s       0.00      0.00      0.00        17\n",
      "          t       0.00      0.00      0.00        21\n",
      "          u       0.00      0.00      0.00        17\n",
      "          v       0.00      0.00      0.00        23\n",
      "          w       0.00      0.00      0.00        19\n",
      "          x       0.00      0.00      0.00        23\n",
      "          y       0.00      0.00      0.00        21\n",
      "          z       0.00      0.00      0.00        19\n",
      "\n",
      "avg / total       0.00      0.01      0.00      1001\n",
      "\n"
     ]
    }
   ],
   "source": [
    "# Classify data with a linear support vector machine\n",
    "svm = SVC(kernel = 'sigmoid')\n",
    "svm.fit(train_data.values, np.ravel(train_target.values))\n",
    "\n",
    "test_pred = svm.predict(test_data.values)\n",
    "print(classification_report(np.ravel(test_target.values), test_pred))"
   ]
  },
  {
   "cell_type": "markdown",
   "metadata": {
    "collapsed": true
   },
   "source": [
    "Linear seems to be the best fit for this problem, classifying points with about 90% precision.\n",
    "\n",
    "NOTE: When using a polynomial suport vector machine, the kernel stops responding."
   ]
  },
  {
   "cell_type": "markdown",
   "metadata": {},
   "source": [
    "### Confusion Matrix for Linear Kernel"
   ]
  },
  {
   "cell_type": "code",
   "execution_count": 17,
   "metadata": {
    "collapsed": false,
    "scrolled": true
   },
   "outputs": [
    {
     "data": {
      "text/plain": [
       "<matplotlib.text.Text at 0x7ff749e6a4e0>"
      ]
     },
     "execution_count": 17,
     "metadata": {},
     "output_type": "execute_result"
    },
    {
     "data": {
      "image/png": "[encoded data removed]",
      "text/plain": [
       "<matplotlib.figure.Figure at 0x7ff749fcd5f8>"
      ]
     },
     "metadata": {},
     "output_type": "display_data"
    }
   ],
   "source": [
    "plt.imshow(np.log(confusion_matrix(np.ravel(test_target.values), test_pred)), cmap = 'Purples', interpolation = 'nearest')\n",
    "plt.grid(False)\n",
    "plt.ylabel('True')\n",
    "plt.xlabel('Predicted')"
   ]
  }
 ],
 "metadata": {
  "kernelspec": {
   "display_name": "Python 3",
   "language": "python",
   "name": "python3"
  },
  "language_info": {
   "codemirror_mode": {
    "name": "ipython",
    "version": 3
   },
   "file_extension": ".py",
   "mimetype": "text/x-python",
   "name": "python",
   "nbconvert_exporter": "python",
   "pygments_lexer": "ipython3",
   "version": "3.4.0"
  }
 },
 "nbformat": 4,
 "nbformat_minor": 0
}
