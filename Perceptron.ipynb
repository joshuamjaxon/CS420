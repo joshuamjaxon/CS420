{
 "cells": [
  {
   "cell_type": "markdown",
   "metadata": {},
   "source": [
    "Supervised Learning\n",
    "===\n",
    "- Data Vector -> Classification\n",
    "- Given the classifcations of a test set, can we determine the classification of a new data set?\n",
    "\n",
    "### Perceptron\n",
    "- Simple neural network based off of human neuron.\n",
    "- Either fires or doesn't - binary classifier.\n",
    "- Works by summing weighted inputs, subtracting a threshold, and looking at the sign of the result.\n",
    "\n",
    "### Algorithm\n",
    "1. Training set **x**, **y**\n",
    "2. Classify all points in **x**\n",
    "3. Choose a point *n* from **x** that was misclassified\n",
    "4. Update weight vect **w** using **w** = **w** + **y**_n**x**_n\n",
    "5. Repeat until all ae correct or until an upper limit of iteration is reached\n",
    "\n",
    "Hint: Use enumerate() to iterate over list giving tuple of index, element."
   ]
  },
  {
   "cell_type": "code",
   "execution_count": 2,
   "metadata": {
    "collapsed": false,
    "scrolled": true
   },
   "outputs": [
    {
     "name": "stderr",
     "output_type": "stream",
     "text": [
      "/usr/local/lib/python3.4/dist-packages/IPython/html.py:14: ShimWarning: The `IPython.html` package has been deprecated. You should import from `notebook` instead. `IPython.html.widgets` has moved to `ipywidgets`.\n",
      "  \"`IPython.html.widgets` has moved to `ipywidgets`.\", ShimWarning)\n"
     ]
    }
   ],
   "source": [
    "%matplotlib inline\n",
    "import numpy as np\n",
    "import random\n",
    "import pandas as pd\n",
    "import seaborn as sbn\n",
    "import matplotlib.pyplot as plt\n",
    "from ipywidgets import interact, interactive, fixed\n",
    "from IPython.html import widgets\n",
    "\n",
    "sbn.set()"
   ]
  },
  {
   "cell_type": "code",
   "execution_count": null,
   "metadata": {
    "collapsed": true
   },
   "outputs": [],
   "source": []
  },
  {
   "cell_type": "code",
   "execution_count": 37,
   "metadata": {
    "collapsed": false
   },
   "outputs": [],
   "source": [
    "class Perceptron:\n",
    "    def __init__(self, ts, tc, verbose=True, plot=True):\n",
    "        self.verbose = verbose\n",
    "        self.training_set = ts\n",
    "        self.classes = tc\n",
    "        self.weights = np.array([1 for i in range(len(ts[0]))])\n",
    "        self.learn()\n",
    "        if plot:\n",
    "            self.plot()\n",
    "        #self.describe()\n",
    "        \n",
    "    def classify(self, x):\n",
    "        return np.sign(np.dot(x, self.weights))\n",
    "    \n",
    "    def learn(self, limit = 10000):\n",
    "        done = False\n",
    "        count = 0\n",
    "        while not done and count < limit:\n",
    "            count += 1\n",
    "            self.correct = []\n",
    "            self.incorrect = []\n",
    "            # Classify every point\n",
    "            for idx, i in enumerate(self.training_set):\n",
    "                if self.classify(i) == self.classes[idx]:\n",
    "                    self.correct.append(idx)\n",
    "                else:\n",
    "                    self.incorrect.append(idx)\n",
    "            if len(self.incorrect) == 0:\n",
    "                if self.verbose:\n",
    "                    print('Done!', self.weights)\n",
    "                done = True\n",
    "            else:\n",
    "                r = random.randrange(len(self.incorrect))\n",
    "                y = self.training_set[self.incorrect[r]]\n",
    "                self.weights = self.weights + y * self.classes[self.incorrect[r]]\n",
    "                if self.verbose:\n",
    "                    print(len(self.incorrect), self.weights)\n",
    "            \n",
    "    def plot(self):\n",
    "        cols = []\n",
    "        xvals = list(map(lambda x: x[1], self.training_set))\n",
    "        cmap = list(map(lambda x: 'red' if x < 0 else 'blue', self.classes))\n",
    "        plt.scatter(xvals, list(map(lambda x: x[2], self.training_set)), c = cmap)\n",
    "        slope, intcpt = -self.weights[1]/self.weights[2], -self.weights[0]/self.weights[2]\n",
    "        xvals = np.linspace(min(xvals), max(xvals))\n",
    "        plt.plot(xvals, slope * xvals + intcpt)\n",
    "        \n",
    "    def describe(self):\n",
    "        print('Weights: ', self.weights)"
   ]
  },
  {
   "cell_type": "code",
   "execution_count": 42,
   "metadata": {
    "collapsed": false
   },
   "outputs": [
    {
     "data": {
      "image/png": "[encoded data removed]",
      "text/plain": [
       "<matplotlib.figure.Figure at 0x7ff3db145b70>"
      ]
     },
     "metadata": {},
     "output_type": "display_data"
    }
   ],
   "source": [
    "t1 = [np.array([1.3, 2.6, 3.7]), np.array([3.6, 2.1, 4.3]), np.array([2.5, 2.5, 2.5]), np.array([6.8, 2.2, 0.1])]\n",
    "c1 = [1, -1, -1, 1]\n",
    "\n",
    "t2 = [np.array([1,.2,.1]),np.array([1,.4,.6]),np.array([1,.5,.2]),np.array([1,.7,.9])]\n",
    "c2 = [1,1,1,-1]\n",
    "\n",
    "p = Perceptron(t2, c2, verbose=False)"
   ]
  },
  {
   "cell_type": "code",
   "execution_count": 5,
   "metadata": {
    "collapsed": false
   },
   "outputs": [],
   "source": [
    "iris = pd.read_csv('https://archive.ics.uci.edu/ml/machine-learning-databases/iris/iris.data', header=None)"
   ]
  },
  {
   "cell_type": "code",
   "execution_count": 44,
   "metadata": {
    "collapsed": false
   },
   "outputs": [
    {
     "name": "stdout",
     "output_type": "stream",
     "text": [
      "50 [-3.9 -2.1 -0.5  0.9]\n",
      "99 [ 2.2  0.9  4.4  2.7]\n",
      "50 [-3.5 -3.5  2.9  2.3]\n",
      "99 [ 2.8 -1.   7.8  3.8]\n",
      "50 [-2.  -4.1  6.2  3.6]\n",
      "Done! [-2.  -4.1  6.2  3.6]\n"
     ]
    },
    {
     "data": {
      "image/png": "[encoded data removed]",
      "text/plain": [
       "<matplotlib.figure.Figure at 0x7ff3d895e6a0>"
      ]
     },
     "metadata": {},
     "output_type": "display_data"
    }
   ],
   "source": [
    "data_s = iris.iloc[0:149, [0, 1, 2, 3]].values\n",
    "classes_s = iris.iloc[0:149, [4]].values\n",
    "classes_s = np.where(classes_s == 'Iris-setosa', -1, 1)\n",
    "s = Perceptron(data_s, classes_s)"
   ]
  },
  {
   "cell_type": "code",
   "execution_count": 47,
   "metadata": {
    "collapsed": false,
    "scrolled": false
   },
   "outputs": [
    {
     "data": {
      "image/png": "[encoded data removed]",
      "text/plain": [
       "<matplotlib.figure.Figure at 0x7ff3d8889048>"
      ]
     },
     "metadata": {},
     "output_type": "display_data"
    }
   ],
   "source": [
    "data_v = iris.iloc[50:149, [0, 1, 2, 3]].values\n",
    "classes_v = iris.iloc[50:149, [4]].values\n",
    "classes_v = np.where(classes_v == 'Iris-versicolor', -1, 1)\n",
    "v = Perceptron(data_v, classes_v, verbose=False)\n",
    "\n",
    "# Evaluation of the weights below suggests that the data is being separated appropriately, but the plot is wrong."
   ]
  },
  {
   "cell_type": "markdown",
   "metadata": {},
   "source": [
    "#### Choosing between *three* possibilities instead of two."
   ]
  },
  {
   "cell_type": "code",
   "execution_count": 34,
   "metadata": {
    "collapsed": true
   },
   "outputs": [],
   "source": [
    "# Takes three arguments:\n",
    "#  p    : A trained perceptron containing all data\n",
    "#  s    : A trained perceptron containing data to be distunguished\n",
    "#  data : A vector containing information for a single iris to be classified\n",
    "def get_type(p, u, data):\n",
    "    if p.classify(data) == -1:\n",
    "        return 'Iris-setosa'\n",
    "    else:\n",
    "        if u.classify(data) == -1:\n",
    "            return 'Iris-versicolor'\n",
    "        else:\n",
    "            return 'Iris-virginica'"
   ]
  },
  {
   "cell_type": "code",
   "execution_count": 181,
   "metadata": {
    "collapsed": false
   },
   "outputs": [
    {
     "name": "stdout",
     "output_type": "stream",
     "text": [
      "Iris-versicolor\n",
      "Iris-setosa\n",
      "Iris-virginica\n",
      "Iris-setosa\n"
     ]
    }
   ],
   "source": [
    "print(get_type(s, v, iris.iloc[86, [0, 1, 2, 3]].values))    # Known versicolor\n",
    "print(get_type(s, v, iris.iloc[37, [0, 1, 2, 3]].values))    # Known setosa\n",
    "print(get_type(s, v, iris.iloc[108, [0, 1, 2, 3]].values))   # Known virginica\n",
    "print(get_type(s, v, [4.5, 3.5, 2, 0.5]))                    # Unknown"
   ]
  },
  {
   "cell_type": "markdown",
   "metadata": {},
   "source": [
    "#### Run this cell to take a new sample and retrain the perceptrons."
   ]
  },
  {
   "cell_type": "code",
   "execution_count": 198,
   "metadata": {
    "collapsed": false
   },
   "outputs": [],
   "source": [
    "# Get a sample with all types of iris for training\n",
    "iris_training = iris.iloc[0:150, [0, 1, 2, 3]].sample(120)\n",
    "iris_classes = iris.iloc[iris_training.index, [4]]\n",
    "\n",
    "# Copy and trim down this sample to contain only versicolor and virginica\n",
    "iris_training2 = iris_training[iris.loc[iris_training.index, 4] != 'Iris-setosa']\n",
    "iris_classes2 = iris.iloc[iris_training2.index, [4]]\n",
    "\n",
    "# Use the rest of the data to test the Perceptrons\n",
    "iris_test = iris.iloc[0:150, [0, 1, 2, 3]].drop(iris_training.index)\n",
    "iris_results = iris.iloc[iris_test.index, [4]]\n",
    "\n",
    "# Create two perceptrons based on the training sets\n",
    "setosa_p = Perceptron(iris_training.values, np.where(iris_classes.values == 'Iris-setosa', -1, 1), verbose = False, plot = False)\n",
    "virginica_p = Perceptron(iris_training2.values, np.where(iris_classes2.values == 'Iris-versicolor', -1, 1), verbose=False, plot = False)"
   ]
  },
  {
   "cell_type": "markdown",
   "metadata": {},
   "source": [
    "#### Run this cell to classify the remaining irises."
   ]
  },
  {
   "cell_type": "code",
   "execution_count": 199,
   "metadata": {
    "collapsed": false
   },
   "outputs": [
    {
     "name": "stdout",
     "output_type": "stream",
     "text": [
      "Correctly classified 97% (29 out of 30) of the irises.\n"
     ]
    }
   ],
   "source": [
    "total = 0\n",
    "correct = 0\n",
    "\n",
    "for idx, i in enumerate(iris_test.values):\n",
    "    total += 1\n",
    "    if get_type(setosa_p, virginica_p, i) == iris_results.values[idx]:\n",
    "        correct += 1\n",
    "    #print(\"Values: \" + str(i) + \" -> \" + get_type(setosa_p, virginica_p, i) + \" ? \" + iris_results.values[idx])\n",
    "\n",
    "print(\"Correctly classified {0}% ({1} out of {2}) of the irises.\".format(round(correct / total * 100), correct, total))"
   ]
  },
  {
   "cell_type": "markdown",
   "metadata": {
    "collapsed": true
   },
   "source": [
    "### Using SciKit Learn"
   ]
  },
  {
   "cell_type": "code",
   "execution_count": 10,
   "metadata": {
    "collapsed": true
   },
   "outputs": [],
   "source": [
    "from sklearn.linear_model import Perceptron as PerceptronSK"
   ]
  },
  {
   "cell_type": "code",
   "execution_count": 30,
   "metadata": {
    "collapsed": false
   },
   "outputs": [],
   "source": [
    "data_s = iris.iloc[0:149, [0, 1, 2, 3]].values\n",
    "classes_s = iris.iloc[0:149, [4]].values\n",
    "classes_s = np.where(classes_s == 'Iris-setosa', -1, 1)\n",
    "sks = PerceptronSK()\n",
    "sks.fit(data_s, np.ravel(classes_s))\n",
    "\n",
    "data_v = iris.iloc[50:149, [0, 1, 2, 3]].values\n",
    "classes_v = iris.iloc[50:149, [4]].values\n",
    "classes_v = np.where(classes_v == 'Iris-versicolor', -1, 1)\n",
    "skv = PerceptronSK()\n",
    "skv.fit(data_v, np.ravel(classes_v))\n",
    "\n",
    "def get_type_sk(s, v, data):\n",
    "    if s.predict(data) == -1:\n",
    "        return 'Iris-setosa'\n",
    "    else:\n",
    "        if v.predict(data) == -1:\n",
    "            return 'Iris-versicolor'\n",
    "        else:\n",
    "            return 'Iris-virginica'"
   ]
  },
  {
   "cell_type": "code",
   "execution_count": 183,
   "metadata": {
    "collapsed": false
   },
   "outputs": [
    {
     "name": "stdout",
     "output_type": "stream",
     "text": [
      "Iris-versicolor\n",
      "Iris-setosa\n",
      "Iris-virginica\n",
      "Iris-setosa\n"
     ]
    }
   ],
   "source": [
    "print(get_type_sk(sks, skv, iris.iloc[86, [0, 1, 2, 3]].values))     # Known versicolor\n",
    "print(get_type_sk(sks, skv, iris.iloc[37, [0, 1, 2, 3]].values))     # Known setosa\n",
    "print(get_type_sk(sks, skv, iris.iloc[108, [0, 1, 2, 3]].values))    # Known virginica\n",
    "print(get_type_sk(sks, skv, [4.5, 3.5, 2, 0.5]))                     # Unknown"
   ]
  }
 ],
 "metadata": {
  "kernelspec": {
   "display_name": "Python 3",
   "language": "python",
   "name": "python3"
  },
  "language_info": {
   "codemirror_mode": {
    "name": "ipython",
    "version": 3
   },
   "file_extension": ".py",
   "mimetype": "text/x-python",
   "name": "python",
   "nbconvert_exporter": "python",
   "pygments_lexer": "ipython3",
   "version": "3.4.0"
  }
 },
 "nbformat": 4,
 "nbformat_minor": 0
}
