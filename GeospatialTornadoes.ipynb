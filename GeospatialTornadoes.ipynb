{
 "cells": [
  {
   "cell_type": "code",
   "execution_count": 2,
   "metadata": {
    "collapsed": false
   },
   "outputs": [],
   "source": [
    "import pandas as pd\n",
    "import numpy as np\n",
    "import matplotlib\n",
    "\n",
    "matplotlib.use('Agg')\n",
    "\n",
    "import matplotlib.pyplot as plt\n",
    "from mpl_toolkits.basemap import Basemap"
   ]
  },
  {
   "cell_type": "code",
   "execution_count": 3,
   "metadata": {
    "collapsed": false,
    "scrolled": false
   },
   "outputs": [
    {
     "name": "stderr",
     "output_type": "stream",
     "text": [
      "/usr/local/lib/python3.4/dist-packages/pandas/io/parsers.py:1170: DtypeWarning: Columns (26,28,41,44,45,46,47,79,81,82,83,84,85,86,87,88,89,90,91,92,93,94,95,96,97,98,99,100,101,102,103,104,105,106,107,108,109,110,111,112,113,114,115,116,117,118,119,120,121,122,123,124,125,126,127,128,129,130,131,132,133,134,135,136,137,138,139,140,141,142,143,144,145,146,147,148,149,150,151,152,153,154,155,156,157,158,159,160,161,162,163,164,165,166,167,168,169,170,171,172,173,174,175,176,177,179) have mixed types. Specify dtype option on import or set low_memory=False.\n",
      "  data = self._reader.read(nrows)\n"
     ]
    }
   ],
   "source": [
    "raw = pd.DataFrame.from_csv('storm_events_1996.csv', index_col=None)"
   ]
  },
  {
   "cell_type": "code",
   "execution_count": 4,
   "metadata": {
    "collapsed": false
   },
   "outputs": [
    {
     "data": {
      "text/html": [
       "<div>\n",
       "<table border=\"1\" class=\"dataframe\">\n",
       "  <thead>\n",
       "    <tr style=\"text-align: right;\">\n",
       "      <th></th>\n",
       "      <th>BEGIN_YEARMONTH</th>\n",
       "      <th>BEGIN_DAY</th>\n",
       "      <th>BEGIN_TIME</th>\n",
       "      <th>END_YEARMONTH</th>\n",
       "      <th>END_DAY</th>\n",
       "      <th>END_TIME</th>\n",
       "      <th>EPISODE_ID</th>\n",
       "      <th>EVENT_ID</th>\n",
       "      <th>STATE</th>\n",
       "      <th>STATE_FIPS</th>\n",
       "      <th>...</th>\n",
       "      <th>Unnamed: 170</th>\n",
       "      <th>Unnamed: 171</th>\n",
       "      <th>Unnamed: 172</th>\n",
       "      <th>Unnamed: 173</th>\n",
       "      <th>Unnamed: 174</th>\n",
       "      <th>Unnamed: 175</th>\n",
       "      <th>Unnamed: 176</th>\n",
       "      <th>Unnamed: 177</th>\n",
       "      <th>Unnamed: 178</th>\n",
       "      <th>Unnamed: 179</th>\n",
       "    </tr>\n",
       "  </thead>\n",
       "  <tbody>\n",
       "    <tr>\n",
       "      <th>0</th>\n",
       "      <td>199610</td>\n",
       "      <td>29</td>\n",
       "      <td>1710</td>\n",
       "      <td>199610</td>\n",
       "      <td>30</td>\n",
       "      <td>600</td>\n",
       "      <td>1052149</td>\n",
       "      <td>5570068</td>\n",
       "      <td>ILLINOIS</td>\n",
       "      <td>17</td>\n",
       "      <td>...</td>\n",
       "      <td>NaN</td>\n",
       "      <td>NaN</td>\n",
       "      <td>NaN</td>\n",
       "      <td>NaN</td>\n",
       "      <td>NaN</td>\n",
       "      <td>NaN</td>\n",
       "      <td>NaN</td>\n",
       "      <td>NaN</td>\n",
       "      <td>NaN</td>\n",
       "      <td>NaN</td>\n",
       "    </tr>\n",
       "    <tr>\n",
       "      <th>1</th>\n",
       "      <td>199610</td>\n",
       "      <td>21</td>\n",
       "      <td>900</td>\n",
       "      <td>199610</td>\n",
       "      <td>21</td>\n",
       "      <td>900</td>\n",
       "      <td>1052748</td>\n",
       "      <td>5570362</td>\n",
       "      <td>OKLAHOMA</td>\n",
       "      <td>40</td>\n",
       "      <td>...</td>\n",
       "      <td>NaN</td>\n",
       "      <td>NaN</td>\n",
       "      <td>NaN</td>\n",
       "      <td>NaN</td>\n",
       "      <td>NaN</td>\n",
       "      <td>NaN</td>\n",
       "      <td>NaN</td>\n",
       "      <td>NaN</td>\n",
       "      <td>NaN</td>\n",
       "      <td>NaN</td>\n",
       "    </tr>\n",
       "    <tr>\n",
       "      <th>2</th>\n",
       "      <td>199610</td>\n",
       "      <td>20</td>\n",
       "      <td>1915</td>\n",
       "      <td>199610</td>\n",
       "      <td>20</td>\n",
       "      <td>1915</td>\n",
       "      <td>1052749</td>\n",
       "      <td>5570363</td>\n",
       "      <td>OKLAHOMA</td>\n",
       "      <td>40</td>\n",
       "      <td>...</td>\n",
       "      <td>NaN</td>\n",
       "      <td>NaN</td>\n",
       "      <td>NaN</td>\n",
       "      <td>NaN</td>\n",
       "      <td>NaN</td>\n",
       "      <td>NaN</td>\n",
       "      <td>NaN</td>\n",
       "      <td>NaN</td>\n",
       "      <td>NaN</td>\n",
       "      <td>NaN</td>\n",
       "    </tr>\n",
       "    <tr>\n",
       "      <th>3</th>\n",
       "      <td>199601</td>\n",
       "      <td>23</td>\n",
       "      <td>400</td>\n",
       "      <td>199601</td>\n",
       "      <td>24</td>\n",
       "      <td>2200</td>\n",
       "      <td>1404440</td>\n",
       "      <td>5537534</td>\n",
       "      <td>CALIFORNIA</td>\n",
       "      <td>6</td>\n",
       "      <td>...</td>\n",
       "      <td>NaN</td>\n",
       "      <td>NaN</td>\n",
       "      <td>NaN</td>\n",
       "      <td>NaN</td>\n",
       "      <td>NaN</td>\n",
       "      <td>NaN</td>\n",
       "      <td>NaN</td>\n",
       "      <td>NaN</td>\n",
       "      <td>NaN</td>\n",
       "      <td>NaN</td>\n",
       "    </tr>\n",
       "    <tr>\n",
       "      <th>4</th>\n",
       "      <td>199601</td>\n",
       "      <td>17</td>\n",
       "      <td>900</td>\n",
       "      <td>199601</td>\n",
       "      <td>18</td>\n",
       "      <td>1800</td>\n",
       "      <td>1404601</td>\n",
       "      <td>5538413</td>\n",
       "      <td>MINNESOTA</td>\n",
       "      <td>27</td>\n",
       "      <td>...</td>\n",
       "      <td>NaN</td>\n",
       "      <td>NaN</td>\n",
       "      <td>NaN</td>\n",
       "      <td>NaN</td>\n",
       "      <td>NaN</td>\n",
       "      <td>NaN</td>\n",
       "      <td>NaN</td>\n",
       "      <td>NaN</td>\n",
       "      <td>NaN</td>\n",
       "      <td>NaN</td>\n",
       "    </tr>\n",
       "  </tbody>\n",
       "</table>\n",
       "<p>5 rows × 180 columns</p>\n",
       "</div>"
      ],
      "text/plain": [
       "   BEGIN_YEARMONTH  BEGIN_DAY  BEGIN_TIME  END_YEARMONTH  END_DAY  END_TIME  \\\n",
       "0           199610         29        1710         199610       30       600   \n",
       "1           199610         21         900         199610       21       900   \n",
       "2           199610         20        1915         199610       20      1915   \n",
       "3           199601         23         400         199601       24      2200   \n",
       "4           199601         17         900         199601       18      1800   \n",
       "\n",
       "   EPISODE_ID  EVENT_ID       STATE  STATE_FIPS     ...       Unnamed: 170  \\\n",
       "0     1052149   5570068    ILLINOIS          17     ...                NaN   \n",
       "1     1052748   5570362    OKLAHOMA          40     ...                NaN   \n",
       "2     1052749   5570363    OKLAHOMA          40     ...                NaN   \n",
       "3     1404440   5537534  CALIFORNIA           6     ...                NaN   \n",
       "4     1404601   5538413   MINNESOTA          27     ...                NaN   \n",
       "\n",
       "  Unnamed: 171 Unnamed: 172 Unnamed: 173  Unnamed: 174 Unnamed: 175  \\\n",
       "0          NaN          NaN          NaN           NaN          NaN   \n",
       "1          NaN          NaN          NaN           NaN          NaN   \n",
       "2          NaN          NaN          NaN           NaN          NaN   \n",
       "3          NaN          NaN          NaN           NaN          NaN   \n",
       "4          NaN          NaN          NaN           NaN          NaN   \n",
       "\n",
       "  Unnamed: 176 Unnamed: 177 Unnamed: 178 Unnamed: 179  \n",
       "0          NaN          NaN          NaN          NaN  \n",
       "1          NaN          NaN          NaN          NaN  \n",
       "2          NaN          NaN          NaN          NaN  \n",
       "3          NaN          NaN          NaN          NaN  \n",
       "4          NaN          NaN          NaN          NaN  \n",
       "\n",
       "[5 rows x 180 columns]"
      ]
     },
     "execution_count": 4,
     "metadata": {},
     "output_type": "execute_result"
    }
   ],
   "source": [
    "raw.head()"
   ]
  },
  {
   "cell_type": "code",
   "execution_count": 5,
   "metadata": {
    "collapsed": false,
    "scrolled": true
   },
   "outputs": [
    {
     "data": {
      "text/plain": [
       "Avalanche               NaN\n",
       "Blizzard                NaN\n",
       "Coastal Flood           NaN\n",
       "Cold/Wind Chill         NaN\n",
       "Debris Flow             NaN\n",
       "Dense Fog               NaN\n",
       "Drought                 NaN\n",
       "Dust Devil              NaN\n",
       "Dust Storm              NaN\n",
       "Flash Flood            3318\n",
       "Flood                  2215\n",
       "Freezing Fog            NaN\n",
       "Frost/Freeze            NaN\n",
       "Funnel Cloud            NaN\n",
       "Hail                    121\n",
       "Heat                    NaN\n",
       "Heavy Rain              NaN\n",
       "Heavy Snow              NaN\n",
       "High Surf               NaN\n",
       "High Wind               NaN\n",
       "Hurricane (Typhoon)     NaN\n",
       "Ice Storm               NaN\n",
       "Lightning               916\n",
       "Marine High Wind        NaN\n",
       "Rip Current             NaN\n",
       "Storm Surge/Tide        NaN\n",
       "Strong Wind             NaN\n",
       "Thunderstorm Wind       127\n",
       "Tornado                  29\n",
       "Tropical Storm          NaN\n",
       "Waterspout              NaN\n",
       "Wildfire                 61\n",
       "Winter Storm            NaN\n",
       "Winter Weather          NaN\n",
       "dtype: float64"
      ]
     },
     "execution_count": 5,
     "metadata": {},
     "output_type": "execute_result"
    }
   ],
   "source": [
    " raw.EVENT_TYPE.value_counts() - raw[pd.notnull(raw.BEGIN_LAT) & pd.notnull(raw.BEGIN_LON != np.nan)].EVENT_TYPE.value_counts()"
   ]
  },
  {
   "cell_type": "code",
   "execution_count": 6,
   "metadata": {
    "collapsed": false
   },
   "outputs": [],
   "source": [
    "cat = ['BEGIN_LAT', 'BEGIN_LON', 'MAGNITUDE', 'TOR_F_SCALE']\n",
    "\n",
    "f_scale = {\n",
    "    'F0': 1,\n",
    "    'F1': 2,\n",
    "    'F2': 3,\n",
    "    'F3': 4,\n",
    "    'F4': 5,\n",
    "    'F5': 6\n",
    "}"
   ]
  },
  {
   "cell_type": "code",
   "execution_count": 7,
   "metadata": {
    "collapsed": false
   },
   "outputs": [],
   "source": [
    "def get_lat(df):\n",
    "    lat = df.BEGIN_LAT.values\n",
    "    temp = []\n",
    "    for i in lat:\n",
    "        if type(i) != 'float':\n",
    "            try:\n",
    "                temp.append(float(i))\n",
    "            except:\n",
    "                temp.append(np.nan)\n",
    "        else:\n",
    "            temp.append(i)\n",
    "    return temp\n",
    "\n",
    "def get_lon(df):\n",
    "    lon = df.BEGIN_LON.values\n",
    "    temp = []\n",
    "    for i in lon:\n",
    "        if type(i) != 'float':\n",
    "            try:\n",
    "                temp.append(float(i))\n",
    "            except:\n",
    "                temp.append(np.nan)\n",
    "        else:\n",
    "            temp.append(i)\n",
    "    return temp"
   ]
  },
  {
   "cell_type": "code",
   "execution_count": 24,
   "metadata": {
    "collapsed": false,
    "scrolled": true
   },
   "outputs": [],
   "source": [
    "t = raw[raw.EVENT_TYPE == \"Tornado\"].filter(cat)\n",
    "\n",
    "t_lon = get_lon(t)\n",
    "t_lat = get_lat(t)\n",
    "\n",
    "t_scale = [f_scale[val] * 125 for val in t.TOR_F_SCALE.values]"
   ]
  },
  {
   "cell_type": "code",
   "execution_count": 9,
   "metadata": {
    "collapsed": false
   },
   "outputs": [],
   "source": [
    "h = raw[raw.EVENT_TYPE == \"Hail\"].filter(cat)\n",
    "\n",
    "h_lon = get_lon(h)\n",
    "h_lat = get_lat(h)"
   ]
  },
  {
   "cell_type": "code",
   "execution_count": null,
   "metadata": {
    "collapsed": true
   },
   "outputs": [],
   "source": [
    "tw = raw[raw.EVENT_TYPE == \"Tornado\"].filter(cat)\n",
    "\n",
    "tw_lon = get_lon(tw)\n",
    "tw_lat = get_lat(tw)"
   ]
  },
  {
   "cell_type": "code",
   "execution_count": 26,
   "metadata": {
    "collapsed": false
   },
   "outputs": [],
   "source": [
    "fig, ax = plt.subplots(figsize=(14,10))\n",
    "\n",
    "usa = Basemap(projection='merc', resolution='l', llcrnrlon=-127, llcrnrlat=22, urcrnrlon=-64, urcrnrlat=52, lat_1=33, lat_2=45, lon_0=-95, area_thresh=10000)\n",
    "usa.fillcontinents(color='green', lake_color='blue')\n",
    "usa.drawstates(color='lightgray')\n",
    "usa.drawcoastlines(color='lightgray')\n",
    "usa.drawcountries(color='black')\n",
    "\n",
    "# Scatter plot: x, y, using latitude/longitude coordinates?, marker style, marker alpha, \n",
    "usa.scatter(t_lon, t_lat, latlon=True, marker='v', c='gray', alpha=0.5, zorder=4, s=t_scale)\n",
    "# usa.scatter(h_lon, h_lat, latlon=True, marker='x', c='lightblue', alpha=0.2, zorder=3)\n",
    "# usa.scatter(tw_lon, tw_lat, latlon=True, marker='o', c='yellow', alpha=0.2, zorder=2)\n",
    "\n",
    "# Image won't output, so I save plot to another location.\n",
    "# LOOK FOR \"tornadoes.png\"\n",
    "plt.title('Tornadoes by Instensity Across USA in 1996')\n",
    "plt.savefig('tornadoes')"
   ]
  },
  {
   "cell_type": "code",
   "execution_count": null,
   "metadata": {
    "collapsed": false
   },
   "outputs": [],
   "source": []
  },
  {
   "cell_type": "code",
   "execution_count": null,
   "metadata": {
    "collapsed": false
   },
   "outputs": [],
   "source": []
  }
 ],
 "metadata": {
  "kernelspec": {
   "display_name": "Python 3",
   "language": "python",
   "name": "python3"
  },
  "language_info": {
   "codemirror_mode": {
    "name": "ipython",
    "version": 3
   },
   "file_extension": ".py",
   "mimetype": "text/x-python",
   "name": "python",
   "nbconvert_exporter": "python",
   "pygments_lexer": "ipython3",
   "version": "3.4.0"
  }
 },
 "nbformat": 4,
 "nbformat_minor": 0
}
